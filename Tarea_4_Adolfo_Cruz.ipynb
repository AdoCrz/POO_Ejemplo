{
 "cells": [
  {
   "cell_type": "markdown",
   "id": "6077c769-4f80-47ad-9e48-a5f06d4844f5",
   "metadata": {},
   "source": [
    "## PROMiDAT Iberoamericano\n",
    "## Inteligencia Artificial con Python\n",
    "## ML1000 - Programación Orientada a Objetos\n",
    "\n",
    "# Tarea 4 \n",
    "### **Adolfo Cruz Razo**"
   ]
  },
  {
   "cell_type": "markdown",
   "id": "945bff81",
   "metadata": {},
   "source": [
    "#### 1. Programe en Python la siguente jerarquía de clases:"
   ]
  },
  {
   "cell_type": "markdown",
   "id": "4250a5bb",
   "metadata": {},
   "source": [
    "### Círculo"
   ]
  },
  {
   "cell_type": "code",
   "execution_count": 1,
   "id": "5c0eed9e",
   "metadata": {},
   "outputs": [],
   "source": [
    "# Importando clase circulo\n",
    "import modulo_figuras\n",
    "from modulo_figuras import Circulo"
   ]
  },
  {
   "cell_type": "code",
   "execution_count": 2,
   "id": "e87b4592",
   "metadata": {},
   "outputs": [],
   "source": [
    "# Comprobando Circulo\n",
    "c = Circulo(10)"
   ]
  },
  {
   "cell_type": "code",
   "execution_count": 3,
   "id": "a6abbb11",
   "metadata": {},
   "outputs": [
    {
     "name": "stdout",
     "output_type": "stream",
     "text": [
      "10\n",
      "20\n"
     ]
    }
   ],
   "source": [
    "# Revisando atributos (Get) y cambiando atributos (Set)\n",
    "print(c.radio)\n",
    "c.radio = 20\n",
    "print(c.radio)"
   ]
  },
  {
   "cell_type": "code",
   "execution_count": 4,
   "id": "0199f60a",
   "metadata": {},
   "outputs": [
    {
     "name": "stdout",
     "output_type": "stream",
     "text": [
      "125.66370614359172\n",
      "1256.6370614359173\n"
     ]
    }
   ],
   "source": [
    "# Probando Métodos\n",
    "print(c.perimetro())\n",
    "print(c.area())"
   ]
  },
  {
   "cell_type": "code",
   "execution_count": 5,
   "id": "a0341d22",
   "metadata": {},
   "outputs": [
    {
     "name": "stdout",
     "output_type": "stream",
     "text": [
      "Radio circulo: (20.00)\n"
     ]
    }
   ],
   "source": [
    "# Probando str\n",
    "print(c)"
   ]
  },
  {
   "cell_type": "markdown",
   "id": "4820ae61",
   "metadata": {},
   "source": [
    "### Elipse"
   ]
  },
  {
   "cell_type": "code",
   "execution_count": 6,
   "id": "4867b0c8",
   "metadata": {},
   "outputs": [],
   "source": [
    "from modulo_figuras import Elipse"
   ]
  },
  {
   "cell_type": "code",
   "execution_count": 7,
   "id": "d6b6e249",
   "metadata": {},
   "outputs": [],
   "source": [
    "# Comprobando Elipse\n",
    "\n",
    "e = Elipse(5, 10)"
   ]
  },
  {
   "cell_type": "code",
   "execution_count": 8,
   "id": "df836e7a",
   "metadata": {},
   "outputs": [
    {
     "name": "stdout",
     "output_type": "stream",
     "text": [
      "5\n",
      "10\n",
      "2\n",
      "4\n"
     ]
    }
   ],
   "source": [
    "# Revisando atributos (Get) y cambiando atributos (Set)\n",
    "print(e.radio_menor)\n",
    "print(e.radio_mayor)\n",
    "\n",
    "e.radio_menor = 2\n",
    "e.radio_mayor = 4\n",
    "\n",
    "print(e.radio_menor)\n",
    "print(e.radio_mayor)"
   ]
  },
  {
   "cell_type": "code",
   "execution_count": 9,
   "id": "f0e9ec25",
   "metadata": {},
   "outputs": [
    {
     "name": "stdout",
     "output_type": "stream",
     "text": [
      "19.869176531592203\n",
      "25.132741228718345\n"
     ]
    }
   ],
   "source": [
    "# Probando Métodos\n",
    "print(e.perimetro())\n",
    "print(e.area())"
   ]
  },
  {
   "cell_type": "code",
   "execution_count": 10,
   "id": "9c1562b3",
   "metadata": {},
   "outputs": [
    {
     "name": "stdout",
     "output_type": "stream",
     "text": [
      "Elipse: (2.00, 4.00 )\n"
     ]
    }
   ],
   "source": [
    "# Probando str\n",
    "\n",
    "print(e)"
   ]
  },
  {
   "cell_type": "markdown",
   "id": "e0561f56",
   "metadata": {},
   "source": [
    "### Anillo"
   ]
  },
  {
   "cell_type": "code",
   "execution_count": 11,
   "id": "ca4409ce",
   "metadata": {},
   "outputs": [],
   "source": [
    "from modulo_figuras import Anillo"
   ]
  },
  {
   "cell_type": "code",
   "execution_count": 12,
   "id": "2c8cabc6",
   "metadata": {},
   "outputs": [],
   "source": [
    "# Comprobando Anillo\n",
    "a = Anillo(10, 20)"
   ]
  },
  {
   "cell_type": "code",
   "execution_count": 13,
   "id": "f9d004aa",
   "metadata": {},
   "outputs": [
    {
     "name": "stdout",
     "output_type": "stream",
     "text": [
      "10\n",
      "20\n",
      "2\n",
      "4\n"
     ]
    }
   ],
   "source": [
    "# Revisando atributos (Get) y cambiando atributos (Set)\n",
    "\n",
    "print(a.radio_externo)\n",
    "print(a.radio_interno)\n",
    "\n",
    "a.radio_externo = 2\n",
    "a.radio_interno = 4\n",
    "\n",
    "print(a.radio_externo)\n",
    "print(a.radio_interno)\n"
   ]
  },
  {
   "cell_type": "code",
   "execution_count": 14,
   "id": "0042aa11",
   "metadata": {},
   "outputs": [
    {
     "name": "stdout",
     "output_type": "stream",
     "text": [
      "37.69911184307752\n",
      "-37.69911184307752\n"
     ]
    }
   ],
   "source": [
    "# Probando Métodos\n",
    "print(a.perimetro())\n",
    "print(a.area())"
   ]
  },
  {
   "cell_type": "code",
   "execution_count": 15,
   "id": "e8034b43",
   "metadata": {},
   "outputs": [
    {
     "name": "stdout",
     "output_type": "stream",
     "text": [
      "Anillo: (2.00, 4.00 )\n"
     ]
    }
   ],
   "source": [
    "# Probando str\n",
    "\n",
    "print(a)"
   ]
  },
  {
   "cell_type": "markdown",
   "id": "43093f62",
   "metadata": {},
   "source": [
    "#### 2. Una Cadena de Eventos desea implementar un sistema para emitir entradas al evento con los siguientes datos:\n",
    "\n",
    "#### LasEntradas delEventotienen:informacióndelcliente: nombre, dirección, teléfono, precioEntrada, ImpuestoVenta, asiento, fila, PrecioPagar = precioEntrada + ImpuestoVenta. \n",
    "#### Además, para cada uno se almacena también la información del evento: nombre, fecha y ubicación.\n",
    "#### Existen también Entradas para ClientesFrecuentes que tienen además un descuento, de modo tal que:\n",
    "#### PrecioPagar = precioEntrada + ImpuestoVenta− descuento * precioEntrada.\n",
    "#### Las Entradas VIP tienen también una lista de Alimentos, donde cada alimento tiene Código, Descripción yPrecio,asíparalasEntradasVIPsetienequeelTotalAlimentos\n",
    "#### = suma de cada uno de los precios de la lista de alimentos, y el precio a pagar de la entrada se calcula como sigue:\n",
    "#### PrecioPagar = precioEntrada + ImpuestoVenta + TotalAlimentos."
   ]
  },
  {
   "cell_type": "code",
   "execution_count": 16,
   "id": "5d11163f",
   "metadata": {},
   "outputs": [],
   "source": [
    "import Base_ejercicio_2"
   ]
  },
  {
   "cell_type": "code",
   "execution_count": 17,
   "id": "14aac92f",
   "metadata": {},
   "outputs": [],
   "source": [
    "# Importando padre\n",
    "\n",
    "from Base_ejercicio_2 import Entrada_Evento\n",
    "from Base_ejercicio_2 import Cliente\n",
    "from Base_ejercicio_2 import Evento"
   ]
  },
  {
   "cell_type": "code",
   "execution_count": 18,
   "id": "f4ce59db",
   "metadata": {},
   "outputs": [],
   "source": [
    "# Probando las agregaciones\n",
    "\n",
    "cliente_normal = Cliente('Adolfo Cruz', 'México', '553263')\n",
    "evento_normal = Evento('Película Avengers normal', '01-03-2025', 'CDMX')"
   ]
  },
  {
   "cell_type": "code",
   "execution_count": 19,
   "id": "97302c8d",
   "metadata": {},
   "outputs": [
    {
     "name": "stdout",
     "output_type": "stream",
     "text": [
      "La entrada está a nombre de: Adolfo Cruz con dirección en: México y con el número celular: 553263\n",
      "El evento registrado es: Película Avengers normal con fecha para el día: 01-03-2025 en el lugar ubicado en: CDMX\n"
     ]
    }
   ],
   "source": [
    "# Probando Str de las agregaciones\n",
    "\n",
    "print(cliente_normal)\n",
    "print(evento_normal)"
   ]
  },
  {
   "cell_type": "code",
   "execution_count": 20,
   "id": "fe5b2b41",
   "metadata": {},
   "outputs": [],
   "source": [
    "# Probando base\n",
    "\n",
    "ticket_1 = Entrada_Evento(precio_entrada= 20, impuesto_venta= 10, asiento= 28,fila = 30, cliente= cliente_normal, evento= evento_normal)"
   ]
  },
  {
   "cell_type": "code",
   "execution_count": 21,
   "id": "74d3ea27",
   "metadata": {},
   "outputs": [
    {
     "name": "stdout",
     "output_type": "stream",
     "text": [
      "20\n",
      "10\n",
      "28\n",
      "30\n",
      "La entrada está a nombre de: Adolfo Cruz con dirección en: México y con el número celular: 553263\n",
      "El evento registrado es: Película Avengers normal con fecha para el día: 01-03-2025 en el lugar ubicado en: CDMX\n"
     ]
    }
   ],
   "source": [
    "# Probando los atributos \n",
    "\n",
    "print(ticket_1.precio_entrada)\n",
    "print(ticket_1.impuesto_venta)\n",
    "print(ticket_1.asiento)\n",
    "print(ticket_1.fila)\n",
    "print(ticket_1.cliente)\n",
    "print(ticket_1.evento)"
   ]
  },
  {
   "cell_type": "code",
   "execution_count": 22,
   "id": "4150d34f",
   "metadata": {},
   "outputs": [
    {
     "name": "stdout",
     "output_type": "stream",
     "text": [
      "La entrada está a nombre de: Adolfo Cruz con dirección en: México y con el número celular: 553263\n",
      "El evento registrado es: Película Avengers normal con fecha para el día: 01-03-2025 en el lugar ubicado en: CDMX\n",
      "El asiento es el número 28, en la fila 30\n",
      "El precio del boleto es de $20 + impuestos de $10\n",
      "El precio total es de $30\n"
     ]
    }
   ],
   "source": [
    "# Probando str\n",
    "\n",
    "print(ticket_1)"
   ]
  },
  {
   "cell_type": "code",
   "execution_count": 23,
   "id": "c7bb0169",
   "metadata": {},
   "outputs": [],
   "source": [
    "# Importando derivados \n",
    "from modulo_entradas import Entrada_Frecuente\n",
    "from modulo_entradas import Entrada_Vip"
   ]
  },
  {
   "cell_type": "code",
   "execution_count": 24,
   "id": "cf7418ec",
   "metadata": {},
   "outputs": [],
   "source": [
    "# Probando cliente frecuente\n",
    "\n",
    "cliente_frecuente = Cliente('Karla', 'México', '5534596')\n",
    "evento_2 = Evento('Película Spider Man', '01-03-2025', 'CDMX')"
   ]
  },
  {
   "cell_type": "code",
   "execution_count": 25,
   "id": "90c2f2c3",
   "metadata": {},
   "outputs": [
    {
     "name": "stdout",
     "output_type": "stream",
     "text": [
      "La entrada está a nombre de: Karla con dirección en: México y con el número celular: 5534596\n",
      "El evento registrado es: Película Spider Man con fecha para el día: 01-03-2025 en el lugar ubicado en: CDMX\n"
     ]
    }
   ],
   "source": [
    "print(cliente_frecuente)\n",
    "print(evento_2)"
   ]
  },
  {
   "cell_type": "code",
   "execution_count": 26,
   "id": "bcbbb8fb",
   "metadata": {},
   "outputs": [],
   "source": [
    "# Ticket frecuente\n",
    "\n",
    "ticket_2 = Entrada_Frecuente(precio_entrada= 20, impuesto_venta = 16, asiento = 15, fila = 12, cliente=cliente_frecuente, evento=evento_2, descuento=0.4)"
   ]
  },
  {
   "cell_type": "code",
   "execution_count": 27,
   "id": "d882299d",
   "metadata": {},
   "outputs": [
    {
     "name": "stdout",
     "output_type": "stream",
     "text": [
      "20\n",
      "16\n",
      "15\n",
      "12\n",
      "La entrada está a nombre de: Karla con dirección en: México y con el número celular: 5534596\n",
      "El evento registrado es: Película Spider Man con fecha para el día: 01-03-2025 en el lugar ubicado en: CDMX\n",
      "0.4\n"
     ]
    }
   ],
   "source": [
    "# Probando atributos\n",
    "\n",
    "print(ticket_2.precio_entrada)\n",
    "print(ticket_2.impuesto_venta)\n",
    "print(ticket_2.asiento)\n",
    "print(ticket_2.fila)\n",
    "print(ticket_2.cliente)\n",
    "print(ticket_2.evento)\n",
    "print(ticket_2.descuento)"
   ]
  },
  {
   "cell_type": "code",
   "execution_count": 28,
   "id": "1056687c",
   "metadata": {},
   "outputs": [
    {
     "name": "stdout",
     "output_type": "stream",
     "text": [
      "El descuento aplicado es de 40.0% sobre el valor del boleto sin impuestos\n",
      "La entrada está a nombre de: Karla con dirección en: México y con el número celular: 5534596\n",
      "El evento registrado es: Película Spider Man con fecha para el día: 01-03-2025 en el lugar ubicado en: CDMX\n",
      "El asiento es el número 15, en la fila 12\n",
      "El precio del boleto es de $20 + impuestos de $16\n",
      "El precio total es de $28.0\n",
      "\n"
     ]
    }
   ],
   "source": [
    "# Probando str\n",
    "\n",
    "print(ticket_2)"
   ]
  },
  {
   "cell_type": "code",
   "execution_count": 29,
   "id": "c3238105",
   "metadata": {},
   "outputs": [],
   "source": [
    "# Importando alimentos\n",
    "\n",
    "from modulo_entradas import Alimentos"
   ]
  },
  {
   "cell_type": "code",
   "execution_count": 30,
   "id": "c72608a5",
   "metadata": {},
   "outputs": [],
   "source": [
    "# Probando cliente VIP\n",
    "\n",
    "\n",
    "cliente_vip = Cliente('Mariana', 'México', '5534596')\n",
    "evento_3 = Evento('Película End Game', '01-03-2025', 'CDMX')\n",
    "alimentos_vip = [Alimentos('1001', 'Palomitas', 50), Alimentos('1002', 'Galletas', 100)]"
   ]
  },
  {
   "cell_type": "code",
   "execution_count": 31,
   "id": "866c7d9f",
   "metadata": {},
   "outputs": [
    {
     "name": "stdout",
     "output_type": "stream",
     "text": [
      "La entrada está a nombre de: Mariana con dirección en: México y con el número celular: 5534596\n",
      "El evento registrado es: Película End Game con fecha para el día: 01-03-2025 en el lugar ubicado en: CDMX\n"
     ]
    }
   ],
   "source": [
    "print(cliente_vip)\n",
    "print(evento_3)"
   ]
  },
  {
   "cell_type": "code",
   "execution_count": 32,
   "id": "2ddd2f49",
   "metadata": {},
   "outputs": [],
   "source": [
    "# Probando ticket VIP\n",
    "\n",
    "ticket_3 = Entrada_Vip(precio_entrada= 40, impuesto_venta = 16, asiento = 10, fila = 1, cliente=cliente_vip, evento=evento_3, alimentos=alimentos_vip)"
   ]
  },
  {
   "cell_type": "code",
   "execution_count": 33,
   "id": "770f0d3a",
   "metadata": {},
   "outputs": [
    {
     "name": "stdout",
     "output_type": "stream",
     "text": [
      "20\n",
      "16\n",
      "15\n",
      "12\n",
      "La entrada está a nombre de: Karla con dirección en: México y con el número celular: 5534596\n",
      "El evento registrado es: Película Spider Man con fecha para el día: 01-03-2025 en el lugar ubicado en: CDMX\n"
     ]
    }
   ],
   "source": [
    "# Probando atributos\n",
    "\n",
    "print(ticket_2.precio_entrada)\n",
    "print(ticket_2.impuesto_venta)\n",
    "print(ticket_2.asiento)\n",
    "print(ticket_2.fila)\n",
    "print(ticket_2.cliente)\n",
    "print(ticket_2.evento)"
   ]
  },
  {
   "cell_type": "code",
   "execution_count": 34,
   "id": "65fe4928",
   "metadata": {},
   "outputs": [
    {
     "name": "stdout",
     "output_type": "stream",
     "text": [
      "La entrada está a nombre de: Mariana con dirección en: México y con el número celular: 5534596\n",
      "El evento registrado es: Película End Game con fecha para el día: 01-03-2025 en el lugar ubicado en: CDMX\n",
      "El asiento es el número 10, en la fila 1\n",
      "El precio del boleto es de $40 + impuestos de $16\n",
      "El precio total es de $206\n",
      "Alimentos seleccionados:\n",
      "\n",
      "Código: 1001, Descripción: Palomitas, Precio: $50.00\n",
      "Código: 1002, Descripción: Galletas, Precio: $100.00\n",
      "Total alimentos: $150.00 MXN\n"
     ]
    }
   ],
   "source": [
    "print(ticket_3)"
   ]
  }
 ],
 "metadata": {
  "kernelspec": {
   "display_name": "base",
   "language": "python",
   "name": "python3"
  },
  "language_info": {
   "codemirror_mode": {
    "name": "ipython",
    "version": 3
   },
   "file_extension": ".py",
   "mimetype": "text/x-python",
   "name": "python",
   "nbconvert_exporter": "python",
   "pygments_lexer": "ipython3",
   "version": "3.12.7"
  }
 },
 "nbformat": 4,
 "nbformat_minor": 5
}
